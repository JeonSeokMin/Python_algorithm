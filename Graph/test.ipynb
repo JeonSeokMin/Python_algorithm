{
 "cells": [
  {
   "cell_type": "code",
   "execution_count": 1,
   "metadata": {},
   "outputs": [],
   "source": [
    "import collections"
   ]
  },
  {
   "cell_type": "code",
   "execution_count": null,
   "metadata": {},
   "outputs": [],
   "source": [
    "def solution(arrows):\n",
    "    answer = 0\n",
    "\n",
    "    move = [(-1, 0), (-1, 1), (0, 1), (1, 1), (1, 0), (1, -1), (0, -1), (-1, -1)]\n",
    "\n",
    "    now = (0, 0)\n",
    "\n",
    "    visitied =  collections.defaultdict(int)\n",
    "    visitied_dir = collections.defaultdict(int)\n",
    "\n",
    "    queue = collections.deque()\n",
    "\n",
    "    for i in arrows:\n",
    "        for _ in range(2):\n",
    "            next = (now[0] + move[i][0], now[1] + move[i][1])\n",
    "            queue.append(next)\n",
    "\n",
    "            now = next\n",
    "\n",
    "    now = queue.popleft()\n",
    "    visitied[now] = 1\n",
    "\n",
    "    while queue:\n",
    "        next = queue.popleft()\n",
    "\n",
    "        if visitied[next] == 1:\n",
    "            if visitied_dir[(now, next)] == 0:\n",
    "                answer += 1\n",
    "\n",
    "        else:\n",
    "            visitied[next] = 1\n",
    "\n",
    "\n",
    "        visitied_dir[(now, next)] = 1\n",
    "        visitied_dir[(next, now)] = 1\n",
    "\n",
    "    return answer"
   ]
  }
 ],
 "metadata": {
  "kernelspec": {
   "display_name": "Python 3",
   "language": "python",
   "name": "python3"
  },
  "language_info": {
   "codemirror_mode": {
    "name": "ipython",
    "version": 3
   },
   "file_extension": ".py",
   "mimetype": "text/x-python",
   "name": "python",
   "nbconvert_exporter": "python",
   "pygments_lexer": "ipython3",
   "version": "3.9.6"
  }
 },
 "nbformat": 4,
 "nbformat_minor": 2
}
