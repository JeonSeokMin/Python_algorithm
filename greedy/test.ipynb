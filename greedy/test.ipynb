{
 "cells": [
  {
   "cell_type": "code",
   "execution_count": 58,
   "metadata": {},
   "outputs": [
    {
     "name": "stdout",
     "output_type": "stream",
     "text": [
      "49\n"
     ]
    }
   ],
   "source": [
    "# 우선순위 큐 다시 공부..!!\n",
    "\n",
    "from heapq import *\n",
    "\n",
    "def max_weight(N, K, T, sharks):\n",
    "    sharks.sort(reverse=True)  # 상어의 크기를 내림차순으로 정렬\n",
    "    heap = []  # 힙 자료구조\n",
    "    answer = T  # 초기 무게\n",
    "    for _ in range(K):  # 먹을 수 있는 횟수만큼 반복\n",
    "        while sharks and sharks[-1] < answer:  # 상어 리스트가 남아있고, 먹을 수 있는 상어가 있다면\n",
    "            heappush(heap, -sharks.pop())  # 먹을 수 있는 상어를 힙에 추가\n",
    "        if heap:  # 힙에 상어가 있다면\n",
    "            answer -= heappop(heap)  # 가장 무게가 큰 상어를 먹음\n",
    "        else:  # 먹을 수 있는 상어가 없다면\n",
    "            break  # 반복 종료\n",
    "    return answer  # 최종 무게 반환\n",
    "\n",
    "N, K, T = map(int, input().split())\n",
    "sharks = list(map(int, input().split()))\n",
    "print(max_weight(N, K, T, sharks))  # 결과 출력\n"
   ]
  },
  {
   "cell_type": "code",
   "execution_count": null,
   "metadata": {},
   "outputs": [],
   "source": []
  }
 ],
 "metadata": {
  "kernelspec": {
   "display_name": "Python 3",
   "language": "python",
   "name": "python3"
  },
  "language_info": {
   "codemirror_mode": {
    "name": "ipython",
    "version": 3
   },
   "file_extension": ".py",
   "mimetype": "text/x-python",
   "name": "python",
   "nbconvert_exporter": "python",
   "pygments_lexer": "ipython3",
   "version": "3.11.5"
  }
 },
 "nbformat": 4,
 "nbformat_minor": 2
}
