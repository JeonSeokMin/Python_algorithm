{
 "cells": [
  {
   "cell_type": "code",
   "execution_count": null,
   "metadata": {},
   "outputs": [],
   "source": [
    "length = int(input())\n",
    "\n",
    "a_list = list(map(int, input().split()))\n",
    "b_list = list(map(int, input().split()))\n",
    "\n",
    "for i in range(length):\n",
    "    s = 0\n",
    "    s += a_list[i] * b_list[i]\n",
    "    \n"
   ]
  }
 ],
 "metadata": {
  "language_info": {
   "name": "python"
  }
 },
 "nbformat": 4,
 "nbformat_minor": 2
}
