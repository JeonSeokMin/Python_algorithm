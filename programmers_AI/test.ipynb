{
 "cells": [
  {
   "cell_type": "code",
   "execution_count": 71,
   "metadata": {},
   "outputs": [],
   "source": [
    "s = \"()()\""
   ]
  },
  {
   "cell_type": "code",
   "execution_count": 13,
   "metadata": {},
   "outputs": [],
   "source": [
    "from collections import deque"
   ]
  },
  {
   "cell_type": "markdown",
   "metadata": {},
   "source": [
    "1. 첫 시작 괄호 s[0] 은 반드시 ' ( ' 여야 한다."
   ]
  },
  {
   "cell_type": "markdown",
   "metadata": {},
   "source": [
    "2. 끝 괄호는 반드시 ' ) ' 이어야 한다."
   ]
  },
  {
   "cell_type": "code",
   "execution_count": 72,
   "metadata": {},
   "outputs": [],
   "source": [
    "from collections import deque\n",
    "\n",
    "def solution(s):\n",
    "    \n",
    "    answer = True\n",
    "\n",
    "    \n",
    "    queue = deque(s)\n",
    "    stack = []\n",
    "    \n",
    "    if len(queue) % 2 == 1:\n",
    "        answer = False\n",
    "    \n",
    "    else:\n",
    "        while queue:\n",
    "            check = queue.popleft()\n",
    "            \n",
    "            if check == '(':\n",
    "                stack.append(check)\n",
    "                \n",
    "            else:\n",
    "                if stack:\n",
    "                    stack.pop()\n",
    "                \n",
    "                else:\n",
    "                    answer = False\n",
    "                    \n",
    "        if stack:\n",
    "            answer = False\n",
    "            \n",
    "    return answer"
   ]
  },
  {
   "cell_type": "code",
   "execution_count": 73,
   "metadata": {},
   "outputs": [
    {
     "data": {
      "text/plain": [
       "True"
      ]
     },
     "execution_count": 73,
     "metadata": {},
     "output_type": "execute_result"
    }
   ],
   "source": [
    "solution(s)"
   ]
  },
  {
   "cell_type": "code",
   "execution_count": null,
   "metadata": {},
   "outputs": [],
   "source": []
  }
 ],
 "metadata": {
  "kernelspec": {
   "display_name": "Python 3",
   "language": "python",
   "name": "python3"
  },
  "language_info": {
   "codemirror_mode": {
    "name": "ipython",
    "version": 3
   },
   "file_extension": ".py",
   "mimetype": "text/x-python",
   "name": "python",
   "nbconvert_exporter": "python",
   "pygments_lexer": "ipython3",
   "version": "3.11.5"
  }
 },
 "nbformat": 4,
 "nbformat_minor": 2
}
